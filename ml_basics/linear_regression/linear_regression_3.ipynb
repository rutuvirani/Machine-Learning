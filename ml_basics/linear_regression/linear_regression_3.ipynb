{
 "cells": [
  {
   "cell_type": "code",
   "execution_count": null,
   "metadata": {},
   "outputs": [
    {
     "name": "stdout",
     "output_type": "stream",
     "text": [
      "X.shape (442, 10)\n",
      "y.shape (442,)\n",
      "X_train.shape (353, 10)\n",
      "X_test.shape (89, 10)\n",
      "y_train.shape (353,)\n",
      "y_test.shape (89,)\n",
      "MSE 3094.4566715660626\n",
      "R2 Score 0.4399338661568968\n",
      "Coefficients [  -9.15865318 -205.45432163  516.69374454  340.61999905 -895.5520019\n",
      "  561.22067904  153.89310954  126.73139688  861.12700152   52.42112238]\n",
      "Intercept 151.88331005254167\n"
     ]
    }
   ],
   "source": [
    "# This code is for multiple linear regression using scikit-learn library in Python\n",
    "\n",
    "import numpy as np\n",
    "from sklearn.datasets import load_diabetes\n",
    "\n",
    "X,y = load_diabetes(return_X_y=True) # Here X is the feature matrix(Parameter like age, protein, ...) and y(Diabetes value) is the target vector\n",
    "\n",
    "print('X.shape',X.shape)\n",
    "print('y.shape',y.shape)\n",
    "\n",
    "\n",
    "from sklearn.model_selection import train_test_split # This function is used to split the dataset into training and testing sets\n",
    "\n",
    "X_train, X_test, y_train, y_test = train_test_split(X, y, test_size=0.2,random_state=2) # Splitting the data into training and testing sets\n",
    "\n",
    "print('X_train.shape',X_train.shape) \n",
    "print('X_test.shape',X_test.shape)\n",
    "print('y_train.shape',y_train.shape)\n",
    "print('y_test.shape',y_test.shape)\n",
    "\n",
    "\n",
    "from sklearn.linear_model import LinearRegression\n",
    "\n",
    "reg = LinearRegression() # Creating an object\n",
    "\n",
    "reg.fit(X_train,y_train) # Training the model with data X_train, y_train\n",
    "\n",
    "y_pred = reg.predict(X_test) # Predicting the target variable for the test data from our trained model\n",
    "\n",
    "\n",
    "from sklearn.metrics import mean_squared_error\n",
    "from sklearn.metrics import r2_score\n",
    "\n",
    "print('MSE',mean_squared_error(y_test,y_pred)) # Mean Squared Error\n",
    "print('R2 Score',r2_score(y_test,y_pred)) # Evaluating the model using R2 score, for more insight read Readme.md\n",
    "\n",
    "print('Coefficients',reg.coef_) # Coefficients of the model(10 column of feature so 10 coefficients)\n",
    "print('Intercept', reg.intercept_) # Intercept of the model\n",
    "\n"
   ]
  },
  {
   "cell_type": "code",
   "execution_count": null,
   "metadata": {},
   "outputs": [
    {
     "data": {
      "text/plain": [
       "(442, 10)"
      ]
     },
     "execution_count": 6,
     "metadata": {},
     "output_type": "execute_result"
    }
   ],
   "source": [
    "\n"
   ]
  }
 ],
 "metadata": {
  "kernelspec": {
   "display_name": ".venv",
   "language": "python",
   "name": "python3"
  },
  "language_info": {
   "codemirror_mode": {
    "name": "ipython",
    "version": 3
   },
   "file_extension": ".py",
   "mimetype": "text/x-python",
   "name": "python",
   "nbconvert_exporter": "python",
   "pygments_lexer": "ipython3",
   "version": "3.10.12"
  }
 },
 "nbformat": 4,
 "nbformat_minor": 2
}
