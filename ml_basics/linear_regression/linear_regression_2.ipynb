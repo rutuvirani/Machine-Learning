{
 "cells": [
  {
   "cell_type": "code",
   "execution_count": null,
   "metadata": {},
   "outputs": [
    {
     "name": "stdout",
     "output_type": "stream",
     "text": [
      "Slope(m):  [1.66873805]\n",
      "Intercept(b):  [-4.69397706]\n"
     ]
    }
   ],
   "source": [
    "# This is simple linear regression with manual calculation of m and b, check ReadMe.md\n",
    "\n",
    "# We want to define our class for LR, like scikitlearn\n",
    "class MeraLR:                            \n",
    "\n",
    "    def __init__(self):                 # set up the initial state of an object\n",
    "        self.m = None                   # Intialize Slope\n",
    "        self.b = None                   # Initialize Intercept    \n",
    "\n",
    "# To train our model(we will calculate m and b from out data/ we will get best fit line from data)\n",
    "    def fit(self,x_train,y_train):      \n",
    "        \n",
    "        num = 0\n",
    "        den = 0\n",
    "\n",
    "        for i in range(x_train.shape[0]): # We are using shape[0] to get the number of rows in our data\n",
    "            \n",
    "            num = num + (x_train[i] - x_train.mean())*(y_train[i] - y_train.mean()) # We are calculating numerator of the slope(m) formula\n",
    "            den = den + (x_train[i] - x_train.mean())**2 # We are calculating denominator of the slope(m) formula\n",
    "\n",
    "        self.m = num/den # We are calculating slope(m)\n",
    "        self.b = y_train.mean() - (self.m * x_train.mean()) # We are calculating intercept(b)\n",
    "        \n",
    "# From the line when we input x value it will predict y value      \n",
    "    def predict(self,x_test):            \n",
    "        \n",
    "        return self.m * x_test + self.b # We are using our formula to predict y value, y = mx + b \n",
    "\n",
    "\n",
    "import numpy as np\n",
    "import pandas as pd\n",
    "\n",
    "# Let's import a simple dataset\n",
    "url = \"https://raw.githubusercontent.com/rutuvirani/Machine-Learning/refs/heads/main/basics/linear_regression/Data_LR.csv\"\n",
    "data = pd.read_csv(url) # Import data from csv file uploded on basics folder\n",
    "data.head() \n",
    "\n",
    "x = data.iloc[:,0:1].values # Separate column this is 1st column, we add values because we want numpy array\n",
    "y = data.iloc[:,-1].values  # Indexing with -1 will choose last column\n",
    "\n",
    "\n",
    "# we want to split our data in to train set and test set\n",
    "from sklearn.model_selection import train_test_split \n",
    "\n",
    "# data divide into test size 0.2 means 20% test data and 80% train data\n",
    "# random_state=2 means when we use this code as integer 2 then same randomization follows every time\n",
    "x_train,x_test,y_train,y_test = train_test_split(x,y,test_size=0.2,random_state=2) \n",
    "\n",
    "# Now we will create an object of our class MeraLR\n",
    "lr = MeraLR()\n",
    "lr.fit(x_train,y_train) # This will give us best fit line(ms, b)\n",
    "\n",
    "print(\"Slope(m): \", lr.m)\n",
    "print(\"Intercept(b): \", lr.b)"
   ]
  }
 ],
 "metadata": {
  "kernelspec": {
   "display_name": ".venv",
   "language": "python",
   "name": "python3"
  },
  "language_info": {
   "codemirror_mode": {
    "name": "ipython",
    "version": 3
   },
   "file_extension": ".py",
   "mimetype": "text/x-python",
   "name": "python",
   "nbconvert_exporter": "python",
   "pygments_lexer": "ipython3",
   "version": "3.10.12"
  }
 },
 "nbformat": 4,
 "nbformat_minor": 2
}
